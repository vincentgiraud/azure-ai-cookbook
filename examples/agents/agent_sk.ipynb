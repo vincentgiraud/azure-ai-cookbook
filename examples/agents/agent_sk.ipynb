{
 "cells": [
  {
   "cell_type": "code",
   "execution_count": 4,
   "id": "3a7bc08c",
   "metadata": {},
   "outputs": [
    {
     "data": {
      "text/plain": [
       "'\\nThe following sample demonstrates how to create an Azure AI agent that answers\\nuser questions. This sample demonstrates the basic steps to create an agent\\nand simulate a conversation with the agent.\\n\\nThe interaction with the agent is via the `get_response` method, which sends a\\nuser input to the agent and receives a response from the agent. The conversation\\nhistory is maintained by the agent service, i.e. the responses are automatically\\nassociated with the thread. Therefore, client code does not need to maintain the\\nconversation history.\\n'"
      ]
     },
     "execution_count": 4,
     "metadata": {},
     "output_type": "execute_result"
    }
   ],
   "source": [
    "from azure.identity.aio import DefaultAzureCredential\n",
    "\n",
    "from semantic_kernel.agents import AzureAIAgent, AzureAIAgentSettings, AzureAIAgentThread\n",
    "\n",
    "\"\"\"\n",
    "The following sample demonstrates how to create an Azure AI agent that answers\n",
    "user questions. This sample demonstrates the basic steps to create an agent\n",
    "and simulate a conversation with the agent.\n",
    "\n",
    "The interaction with the agent is via the `get_response` method, which sends a\n",
    "user input to the agent and receives a response from the agent. The conversation\n",
    "history is maintained by the agent service, i.e. the responses are automatically\n",
    "associated with the thread. Therefore, client code does not need to maintain the\n",
    "conversation history.\n",
    "\"\"\""
   ]
  },
  {
   "cell_type": "code",
   "execution_count": 5,
   "id": "cf35c47c",
   "metadata": {},
   "outputs": [],
   "source": [
    "# Simulate a conversation with the agent\n",
    "USER_INPUTS = [\n",
    "    \"Hello, I am John Doe.\",\n",
    "    \"What is your name?\",\n",
    "    \"What is my name?\",\n",
    "]"
   ]
  },
  {
   "cell_type": "code",
   "execution_count": 6,
   "id": "53aad982",
   "metadata": {},
   "outputs": [
    {
     "name": "stdout",
     "output_type": "stream",
     "text": [
      "# User: Hello, I am John Doe.\n",
      "# Assistant: Hello, John! How can I assist you today?\n",
      "# User: What is your name?\n",
      "# Assistant: I’m called Assistant! You can think of me as your helpful AI companion. 😊 How can I help you today, John?\n",
      "# User: What is my name?\n",
      "# Assistant: You mentioned that your name is John Doe. 😊 Did I get that right?\n"
     ]
    }
   ],
   "source": [
    "ai_agent_settings = AzureAIAgentSettings.create()\n",
    "\n",
    "async with (\n",
    "    DefaultAzureCredential() as creds,\n",
    "    AzureAIAgent.create_client(credential=creds) as client,\n",
    "):\n",
    "    # 1. Create an agent on the Azure AI agent service\n",
    "    agent_definition = await client.agents.create_agent(\n",
    "         model=ai_agent_settings.model_deployment_name,\n",
    "         name=\"Assistant\",\n",
    "        instructions=\"Answer the user's questions.\",\n",
    "    )\n",
    "\n",
    "    # 2. Create a Semantic Kernel agent for the Azure AI agent\n",
    "    agent = AzureAIAgent(\n",
    "        client=client,\n",
    "        definition=agent_definition,\n",
    "    )\n",
    "\n",
    "    # 3. Create a thread for the agent\n",
    "    # If no thread is provided, a new thread will be\n",
    "    # created and returned with the initial response\n",
    "    thread: AzureAIAgentThread = None\n",
    "\n",
    "    try:\n",
    "        for user_input in USER_INPUTS:\n",
    "            print(f\"# User: {user_input}\")\n",
    "             # 4. Invoke the agent with the specified message for response\n",
    "            response = await agent.get_response(messages=user_input, thread=thread)\n",
    "            print(f\"# {response.name}: {response}\")\n",
    "            thread = response.thread\n",
    "    finally:\n",
    "        # 6. Cleanup: Delete the thread and agent\n",
    "        await thread.delete() if thread else None\n",
    "        await client.agents.delete_agent(agent.id)"
   ]
  },
  {
   "cell_type": "code",
   "execution_count": 7,
   "id": "ce3672bd",
   "metadata": {},
   "outputs": [
    {
     "data": {
      "text/plain": [
       "\"\\nSample Output:\\n# User: Hello, I am John Doe.\\n# Assistant: Hello, John! How can I assist you today?\\n# User: What is your name?\\n# Assistant: I'm here as your assistant, so you can just call me Assistant. How can I help you today?\\n# User: What is my name?\\n# Assistant: Your name is John Doe. How can I assist you today, John?\\n\""
      ]
     },
     "execution_count": 7,
     "metadata": {},
     "output_type": "execute_result"
    }
   ],
   "source": [
    "\"\"\"\n",
    "Sample Output:\n",
    "# User: Hello, I am John Doe.\n",
    "# Assistant: Hello, John! How can I assist you today?\n",
    "# User: What is your name?\n",
    "# Assistant: I'm here as your assistant, so you can just call me Assistant. How can I help you today?\n",
    "# User: What is my name?\n",
    "# Assistant: Your name is John Doe. How can I assist you today, John?\n",
    "\"\"\""
   ]
  }
 ],
 "metadata": {
  "kernelspec": {
   "display_name": ".venv",
   "language": "python",
   "name": "python3"
  },
  "language_info": {
   "codemirror_mode": {
    "name": "ipython",
    "version": 3
   },
   "file_extension": ".py",
   "mimetype": "text/x-python",
   "name": "python",
   "nbconvert_exporter": "python",
   "pygments_lexer": "ipython3",
   "version": "3.12.8"
  }
 },
 "nbformat": 4,
 "nbformat_minor": 5
}
