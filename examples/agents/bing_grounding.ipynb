{
 "cells": [
  {
   "cell_type": "code",
   "execution_count": 1,
   "metadata": {},
   "outputs": [],
   "source": [
    "import os\n",
    "from azure.ai.projects import AIProjectClient\n",
    "from azure.identity import DefaultAzureCredential\n",
    "from azure.ai.projects.models import BingGroundingTool\n",
    "from dotenv import load_dotenv"
   ]
  },
  {
   "cell_type": "code",
   "execution_count": 2,
   "metadata": {},
   "outputs": [
    {
     "data": {
      "text/plain": [
       "True"
      ]
     },
     "execution_count": 2,
     "metadata": {},
     "output_type": "execute_result"
    }
   ],
   "source": [
    "# Load environment variables from .env file\n",
    "load_dotenv()"
   ]
  },
  {
   "cell_type": "code",
   "execution_count": 3,
   "metadata": {},
   "outputs": [],
   "source": [
    "# Create an Azure AI Client from a connection string, copied from your Azure AI Foundry project.\n",
    "# It should be in the format \"<HostName>;<AzureSubscriptionId>;<ResourceGroup>;<HubName>\"\n",
    "# Customers need to login to Azure subscription via Azure CLI and set the environment variables\n",
    "\n",
    "project_client = AIProjectClient.from_connection_string(\n",
    "    credential=DefaultAzureCredential(),\n",
    "    conn_str=os.environ[\"PROJECT_CONNECTION_STRING\"],\n",
    ")"
   ]
  },
  {
   "cell_type": "code",
   "execution_count": 4,
   "metadata": {},
   "outputs": [
    {
     "name": "stdout",
     "output_type": "stream",
     "text": [
      "/subscriptions/a2adbedd-e5e9-44a5-ba32-6b2175e3018a/resourceGroups/rg-sc-vgi/providers/Microsoft.MachineLearningServices/workspaces/prj-sc-vgi/connections/binggroundingscvgi\n"
     ]
    }
   ],
   "source": [
    "# [START create_agent_with_bing_grounding_tool]\n",
    "bing_connection = project_client.connections.get(connection_name=os.environ[\"BING_CONNECTION_NAME\"])\n",
    "conn_id = bing_connection.id\n",
    "\n",
    "print(conn_id)"
   ]
  },
  {
   "cell_type": "code",
   "execution_count": 5,
   "metadata": {},
   "outputs": [],
   "source": [
    "# Initialize agent bing tool and add the connection id\n",
    "bing = BingGroundingTool(connection_id=conn_id)"
   ]
  },
  {
   "cell_type": "code",
   "execution_count": 6,
   "metadata": {},
   "outputs": [
    {
     "name": "stdout",
     "output_type": "stream",
     "text": [
      "Created agent, ID: asst_QpPvxjQgAYWY7lR7256NWkdG\n",
      "Created thread, ID: thread_XhRDvaH0KGdqJO3kFHdwBHji\n",
      "Created message, ID: msg_PUcCosEjuGGuFXgRg4S0zmBP\n",
      "Run finished with status: RunStatus.COMPLETED\n",
      "Deleted agent\n",
      "Messages: {'object': 'list', 'data': [{'id': 'msg_65S48gRCPCwPUJodiW0MOCNm', 'object': 'thread.message', 'created_at': 1741697455, 'assistant_id': 'asst_QpPvxjQgAYWY7lR7256NWkdG', 'thread_id': 'thread_XhRDvaH0KGdqJO3kFHdwBHji', 'run_id': 'run_YLBKEM1cquNDSf1lNdTc9DLh', 'role': 'assistant', 'content': [{'type': 'text', 'text': {'value': 'The latest price for Microsoft stock is approximately $380.16 as of the previous trading day【5†source】.', 'annotations': [{'type': 'url_citation', 'text': '【5†source】', 'start_index': 92, 'end_index': 102, 'url_citation': {'url': 'https://www.macrotrends.net/stocks/charts/MSFT/microsoft/stock-price-history', 'title': 'Microsoft - 39 Year Stock Price History | MSFT - Macrotrends'}}]}}], 'attachments': [], 'metadata': {}}, {'id': 'msg_PUcCosEjuGGuFXgRg4S0zmBP', 'object': 'thread.message', 'created_at': 1741697420, 'assistant_id': None, 'thread_id': 'thread_XhRDvaH0KGdqJO3kFHdwBHji', 'run_id': None, 'role': 'user', 'content': [{'type': 'text', 'text': {'value': 'What is the latest Microsoft stock price?', 'annotations': []}}], 'attachments': [], 'metadata': {}}], 'first_id': 'msg_65S48gRCPCwPUJodiW0MOCNm', 'last_id': 'msg_PUcCosEjuGGuFXgRg4S0zmBP', 'has_more': False}\n"
     ]
    }
   ],
   "source": [
    "# Create agent with the bing tool and process assistant run\n",
    "with project_client:\n",
    "    agent = project_client.agents.create_agent(\n",
    "        model=os.environ[\"MODEL_DEPLOYMENT_NAME\"],\n",
    "        name=\"my-assistant\",\n",
    "        instructions=\"You are a helpful assistant\",\n",
    "        tools=bing.definitions,\n",
    "        headers={\"x-ms-enable-preview\": \"true\"},\n",
    "    )\n",
    "    # [END create_agent_with_bing_grounding_tool]\n",
    "\n",
    "    print(f\"Created agent, ID: {agent.id}\")\n",
    "\n",
    "    # Create thread for communication\n",
    "    thread = project_client.agents.create_thread()\n",
    "    print(f\"Created thread, ID: {thread.id}\")\n",
    "\n",
    "    # Create message to thread\n",
    "    message = project_client.agents.create_message(\n",
    "        thread_id=thread.id,\n",
    "        role=\"user\",\n",
    "        content=\"What is the latest Microsoft stock price?\",\n",
    "    )\n",
    "    print(f\"Created message, ID: {message.id}\")\n",
    "\n",
    "    # Create and process agent run in thread with tools\n",
    "    run = project_client.agents.create_and_process_run(thread_id=thread.id, assistant_id=agent.id)\n",
    "    print(f\"Run finished with status: {run.status}\")\n",
    "\n",
    "    if run.status == \"failed\":\n",
    "        print(f\"Run failed: {run.last_error}\")\n",
    "\n",
    "    # Delete the assistant when done\n",
    "    project_client.agents.delete_agent(agent.id)\n",
    "    print(\"Deleted agent\")\n",
    "\n",
    "    # Fetch and log all messages\n",
    "    messages = project_client.agents.list_messages(thread_id=thread.id)\n",
    "    print(f\"Messages: {messages}\")"
   ]
  }
 ],
 "metadata": {
  "kernelspec": {
   "display_name": ".venv",
   "language": "python",
   "name": "python3"
  },
  "language_info": {
   "codemirror_mode": {
    "name": "ipython",
    "version": 3
   },
   "file_extension": ".py",
   "mimetype": "text/x-python",
   "name": "python",
   "nbconvert_exporter": "python",
   "pygments_lexer": "ipython3",
   "version": "3.12.8"
  }
 },
 "nbformat": 4,
 "nbformat_minor": 2
}
