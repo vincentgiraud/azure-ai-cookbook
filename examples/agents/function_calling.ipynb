{
 "cells": [
  {
   "cell_type": "code",
   "execution_count": 1,
   "metadata": {},
   "outputs": [],
   "source": [
    "import os\n",
    "from azure.ai.projects import AIProjectClient\n",
    "from azure.identity import DefaultAzureCredential\n",
    "from azure.ai.projects.models import FunctionTool, ToolSet\n",
    "from tools.user_functions import user_functions # user functions which can be found in a user_functions.py file.\n",
    "from dotenv import load_dotenv"
   ]
  },
  {
   "cell_type": "code",
   "execution_count": 2,
   "metadata": {},
   "outputs": [
    {
     "data": {
      "text/plain": [
       "True"
      ]
     },
     "execution_count": 2,
     "metadata": {},
     "output_type": "execute_result"
    }
   ],
   "source": [
    "# Load environment variables from .env file\n",
    "load_dotenv(override=True)"
   ]
  },
  {
   "cell_type": "code",
   "execution_count": 3,
   "metadata": {},
   "outputs": [],
   "source": [
    "# Create an Azure AI Client from a connection string, copied from your Azure AI Foundry project.\n",
    "# It should be in the format \"<HostName>;<AzureSubscriptionId>;<ResourceGroup>;<HubName>\"\n",
    "# Customers need to login to Azure subscription via Azure CLI and set the environment variables\n",
    "\n",
    "project_client = AIProjectClient.from_connection_string(\n",
    "    credential=DefaultAzureCredential(),\n",
    "    conn_str=os.environ[\"PROJECT_CONNECTION_STRING\"],\n",
    ")"
   ]
  },
  {
   "cell_type": "code",
   "execution_count": null,
   "metadata": {},
   "outputs": [
    {
     "name": "stdout",
     "output_type": "stream",
     "text": [
      "Created agent, ID: asst_jROJkw5rH3x4slhMokQCFMbb\n"
     ]
    }
   ],
   "source": [
    "# Initialize agent toolset with user functions\n",
    "functions = FunctionTool(user_functions)\n",
    "toolset = ToolSet()\n",
    "toolset.add(functions)\n",
    "\n",
    "agent = project_client.agents.create_agent(\n",
    "    model=os.environ[\"O_MODEL_DEPLOYMENT_NAME\"], \n",
    "    name=\"my-agent\", \n",
    "    instructions=\"You are a weather bot. Use the provided functions to help answer questions.\", \n",
    "    toolset=toolset\n",
    ")\n",
    "print(f\"Created agent, ID: {agent.id}\")"
   ]
  },
  {
   "cell_type": "code",
   "execution_count": 5,
   "metadata": {},
   "outputs": [
    {
     "name": "stdout",
     "output_type": "stream",
     "text": [
      "Created thread, ID: thread_YIn0WMbohyoE6Gs6ZBcTEJNY\n",
      "Created message, ID: msg_CttsW6zhVAuPilZtGk0EmS7o\n"
     ]
    }
   ],
   "source": [
    "# Create thread for communication\n",
    "thread = project_client.agents.create_thread()\n",
    "print(f\"Created thread, ID: {thread.id}\")\n",
    "\n",
    "# Create message to thread\n",
    "message = project_client.agents.create_message(\n",
    "    thread_id=thread.id,\n",
    "    role=\"user\",\n",
    "    content=\"Hello, send an email with the datetime and weather information in New York?\",\n",
    ")\n",
    "print(f\"Created message, ID: {message.id}\")"
   ]
  },
  {
   "cell_type": "code",
   "execution_count": 6,
   "metadata": {},
   "outputs": [
    {
     "name": "stdout",
     "output_type": "stream",
     "text": [
      "Run finished with status: RunStatus.COMPLETED\n"
     ]
    }
   ],
   "source": [
    "# Create and process agent run in thread with tools\n",
    "run = project_client.agents.create_and_process_run(thread_id=thread.id, agent_id=agent.id)\n",
    "print(f\"Run finished with status: {run.status}\")\n",
    "if run.status == \"failed\":\n",
    "    print(f\"Run failed: {run.last_error}\")"
   ]
  },
  {
   "cell_type": "code",
   "execution_count": 7,
   "metadata": {},
   "outputs": [
    {
     "name": "stdout",
     "output_type": "stream",
     "text": [
      "Deleted agent\n"
     ]
    }
   ],
   "source": [
    "# Delete the assistant when done\n",
    "project_client.agents.delete_agent(agent.id)\n",
    "print(\"Deleted agent\")\n"
   ]
  },
  {
   "cell_type": "code",
   "execution_count": 8,
   "metadata": {},
   "outputs": [
    {
     "name": "stdout",
     "output_type": "stream",
     "text": [
      "User: Hello, send an email with the datetime and weather information in New York?\n",
      "\n",
      "Assistant: The datetime must come from your end. Based on my current capabilities, here's the weather information for New York:\n",
      "\n",
      "- Weather: Sunny\n",
      "- Temperature: 25°C\n",
      "\n"
     ]
    }
   ],
   "source": [
    "# Fetch and log all messages\n",
    "messages = project_client.agents.list_messages(thread_id=thread.id)\n",
    "# Print all messages in the thread\n",
    "for msg in reversed(messages.data):\n",
    "    role = msg.role.capitalize()\n",
    "    content = msg.content[0]['text']['value'] if msg.content else ''\n",
    "    print(f\"{role}: {content}\\n\")"
   ]
  }
 ],
 "metadata": {
  "kernelspec": {
   "display_name": ".venv",
   "language": "python",
   "name": "python3"
  },
  "language_info": {
   "codemirror_mode": {
    "name": "ipython",
    "version": 3
   },
   "file_extension": ".py",
   "mimetype": "text/x-python",
   "name": "python",
   "nbconvert_exporter": "python",
   "pygments_lexer": "ipython3",
   "version": "3.12.8"
  }
 },
 "nbformat": 4,
 "nbformat_minor": 2
}
