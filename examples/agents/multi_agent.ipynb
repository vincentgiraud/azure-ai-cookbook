{
 "cells": [
  {
   "cell_type": "markdown",
   "id": "902b20d9",
   "metadata": {},
   "source": [
    "** NEEDS azure.ai.projects.models to support ConnectedAgentTool and MessageRole **\n",
    "\n",
    "https://learn.microsoft.com/en-us/azure/ai-services/agents/how-to/connected-agents?pivots=python\n",
    "\n",
    "# Creating a multi-agent setup\n",
    "To create a multi-agent setup, follow these steps:\n",
    "\n",
    "1. Initialize the client object."
   ]
  },
  {
   "cell_type": "code",
   "execution_count": null,
   "id": "757336db",
   "metadata": {},
   "outputs": [],
   "source": [
    "import os\n",
    "from azure.ai.projects import AIProjectClient\n",
    "# from azure.ai.projects.models import ConnectedAgentTool, \n",
    "from azure.ai.projects.models import MessageRole\n",
    "from azure.identity import DefaultAzureCredential\n",
    "from dotenv import load_dotenv\n",
    "\n",
    "load_dotenv()\n",
    "\n",
    "\n",
    "project_client = AIProjectClient.from_connection_string(\n",
    "    credential=DefaultAzureCredential(),\n",
    "    conn_str=os.environ[\"PROJECT_CONNECTION_STRING\"],\n",
    ")"
   ]
  },
  {
   "cell_type": "markdown",
   "id": "10386fb7",
   "metadata": {},
   "source": [
    "2. Create an agent that will be connected to a \"main\" agent."
   ]
  },
  {
   "cell_type": "code",
   "execution_count": null,
   "id": "88ae02fc",
   "metadata": {},
   "outputs": [],
   "source": [
    "# stock_price_agent = project_client.agents.create_agent(\n",
    "#     model=os.environ[\"AZURE_OPENAI_CHAT_DEPLOYMENT_NAME\"],\n",
    "#     name=\"stock_price_bot\",\n",
    "#     instructions=\"Your job is to get the stock price of a company. If you don't know the realtime stock price, return the last known stock price.\",\n",
    "#     #tools=... # tools to help the agent get stock prices\n",
    "# )"
   ]
  },
  {
   "cell_type": "markdown",
   "id": "d8b5a16d",
   "metadata": {},
   "source": [
    "3. Initialize the connected agent tool with the agent ID, name, and description"
   ]
  },
  {
   "cell_type": "code",
   "execution_count": null,
   "id": "a6142286",
   "metadata": {},
   "outputs": [],
   "source": [
    "# connected_agent = ConnectedAgentTool(\n",
    "#     id=stock_price_agent.id, name=connected_agent_name, description=\"Gets the stock price of a company\"\n",
    "# )"
   ]
  },
  {
   "cell_type": "markdown",
   "id": "1679865b",
   "metadata": {},
   "source": [
    "4. Create the \"main\" agent that will use the connected agent."
   ]
  },
  {
   "cell_type": "code",
   "execution_count": null,
   "id": "e5fe58ec",
   "metadata": {},
   "outputs": [],
   "source": [
    "# Need azure.ai.projects.models lib upgrade when available to use MessageRole\n",
    "\n",
    "# agent = project_client.agents.create_agent(\n",
    "#     model=os.environ[\"O_MODEL_DEPLOYMENT_NAME\"],\n",
    "#     name=\"my-agent\",\n",
    "#     instructions=\"You are a helpful agent, and use the available tools to get stock prices.\",\n",
    "#     tools=connected_agent.definitions,\n",
    "# )\n",
    "\n",
    "# print(f\"Created agent, ID: {agent.id}\")\n",
    "\n",
    "agent = project_client.agents.get_agent(\n",
    "    agent_id=\"asst_vkQdEvbYGAtNZxSz60dNTqPR\",\n",
    ")"
   ]
  },
  {
   "cell_type": "markdown",
   "id": "4b15b929",
   "metadata": {},
   "source": [
    "5. Create a thread and add a message to it."
   ]
  },
  {
   "cell_type": "code",
   "execution_count": null,
   "id": "e3d345d2",
   "metadata": {},
   "outputs": [],
   "source": [
    "thread = project_client.agents.create_thread()\n",
    "print(f\"Created thread, ID: {thread.id}\")\n",
    "\n",
    "# Need azure.ai.projects.models lib upgrade when available to use MessageRole\n",
    "\n",
    "# Create message to thread\n",
    "message = project_client.agents.create_message(\n",
    "    thread_id=thread.id,\n",
    "    role=MessageRole.USER,\n",
    "    content=\"What is the stock price of Microsoft?\",\n",
    ")\n",
    "\n",
    "print(f\"Created message, ID: {message.id}\")"
   ]
  },
  {
   "cell_type": "markdown",
   "id": "28166aa6",
   "metadata": {},
   "source": [
    "6. Create a run and wait for it to complete."
   ]
  },
  {
   "cell_type": "code",
   "execution_count": null,
   "id": "c0ca5d4d",
   "metadata": {},
   "outputs": [],
   "source": [
    "# Create and process Agent run in thread with tools\n",
    "run = project_client.agents.create_and_process_run(thread_id=thread.id, agent_id=agent.id)\n",
    "print(f\"Run finished with status: {run.status}\")\n",
    "\n",
    "if run.status == \"failed\":\n",
    "    print(f\"Run failed: {run.last_error}\")\n",
    "\n",
    "# Delete the Agent when done\n",
    "# project_client.agents.delete_agent(agent.id)\n",
    "# print(\"Deleted agent\")\n",
    "\n",
    "# Delete the connected Agent when done\n",
    "# project_client.agents.delete_agent(\"stock_price_agent.id\")\n",
    "# print(\"Deleted connected agent\")"
   ]
  },
  {
   "cell_type": "markdown",
   "id": "e524c518",
   "metadata": {},
   "source": [
    "7. Print the agent's response. The main agent will compile the responses from the connected agents and provide the response. connected agent responses are only visible to the main agent, and not to the end user."
   ]
  },
  {
   "cell_type": "code",
   "execution_count": null,
   "id": "6b5d6b47",
   "metadata": {},
   "outputs": [],
   "source": [
    "# Print the Agent's response message with optional citation\n",
    "response_message = project_client.agents.list_messages(thread_id=thread.id).get_last_message_by_role(\n",
    "    MessageRole.AGENT\n",
    ")\n",
    "if response_message:\n",
    "    for text_message in response_message.text_messages:\n",
    "        print(f\"Agent response: {text_message.text.value}\")\n",
    "    for annotation in response_message.url_citation_annotations:\n",
    "        print(f\"URL Citation: [{annotation.url_citation.title}]({annotation.url_citation.url})\")"
   ]
  }
 ],
 "metadata": {
  "kernelspec": {
   "display_name": ".venv",
   "language": "python",
   "name": "python3"
  },
  "language_info": {
   "codemirror_mode": {
    "name": "ipython",
    "version": 3
   },
   "file_extension": ".py",
   "mimetype": "text/x-python",
   "name": "python",
   "nbconvert_exporter": "python",
   "pygments_lexer": "ipython3",
   "version": "3.12.8"
  }
 },
 "nbformat": 4,
 "nbformat_minor": 5
}
