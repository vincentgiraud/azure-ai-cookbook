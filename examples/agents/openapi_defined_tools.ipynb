{
 "cells": [
  {
   "cell_type": "markdown",
   "metadata": {},
   "source": [
    "https://github.com/azure-ai-foundry/foundry-samples/tree/main/samples/microsoft/python/getting-started-agents/3p-tools/legalfly"
   ]
  },
  {
   "cell_type": "code",
   "execution_count": null,
   "metadata": {},
   "outputs": [],
   "source": [
    "import os\n",
    "import time\n",
    "import jsonref\n",
    "from azure.ai.projects import AIProjectClient\n",
    "from azure.identity import DefaultAzureCredential\n",
    "from azure.ai.agents.models import OpenApiTool, OpenApiConnectionAuthDetails, OpenApiConnectionSecurityScheme\n",
    "from dotenv import load_dotenv\n",
    "\n",
    "# Load environment variables from .env file\n",
    "load_dotenv()"
   ]
  },
  {
   "cell_type": "code",
   "execution_count": null,
   "metadata": {},
   "outputs": [],
   "source": [
    "project_client = AIProjectClient(\n",
    "    endpoint=os.environ[\"PROJECT_ENDPOINT\"],\n",
    "    credential=DefaultAzureCredential(),\n",
    ")\n",
    "\n",
    "# Connection to the legalfly API (Azure AI Foundry project custom key connection)\n",
    "connection_name = os.environ[\"LEGALFLY_API_CONNECTION_NAME\"]"
   ]
  },
  {
   "cell_type": "code",
   "execution_count": 18,
   "metadata": {},
   "outputs": [],
   "source": [
    "# Load the OpenAPI specification for the service from a local JSON file using jsonref to handle references\n",
    "with open(\"./legalfly.json\", \"r\") as f:\n",
    "    openapi_spec = jsonref.loads(f.read())\n",
    "\n",
    "conn_id = project_client.connections.get(name=connection_name).id\n",
    "# Create Auth object for the OpenApiTool (note that connection or managed identity auth setup requires additional setup in Azure)\n",
    "auth = OpenApiConnectionAuthDetails(security_scheme=OpenApiConnectionSecurityScheme(connection_id=conn_id))\n",
    "\n",
    "# Initialize the main OpenAPI tool definition for weather\n",
    "openapi_tool = OpenApiTool(\n",
    "    name=\"getLegalCounsel\", \n",
    "    spec=openapi_spec, \n",
    "    description=\"LegalFly legal counsel API\", \n",
    "    auth=auth\n",
    ")"
   ]
  },
  {
   "cell_type": "code",
   "execution_count": null,
   "metadata": {},
   "outputs": [],
   "source": [
    "# Create an agent configured with the combined OpenAPI tool definitions\n",
    "agent = project_client.agents.create_agent(\n",
    "    model=os.environ[\"MODEL_DEPLOYMENT_NAME\"], # Specify the model deployment\n",
    "    name=\"my-legal-agent\", # Give the agent a name\n",
    "    instructions=\"You are a helpful AI legal assistant. Act like a friendly person who possesses a lot of legal knowledge.\",\n",
    "    tools=openapi_tool.definitions, # Provide the list of tool definitions\n",
    ")\n",
    "print(f\"Created agent, ID: {agent.id}\")"
   ]
  },
  {
   "cell_type": "code",
   "execution_count": null,
   "metadata": {},
   "outputs": [],
   "source": [
    "# Create a new conversation thread for the interaction\n",
    "thread = project_client.agents.threads.create()\n",
    "print(f\"Created thread, ID: {thread.id}\")\n",
    "\n",
    "# Create the initial user message in the thread\n",
    "message = project_client.agents.messages.create(\n",
    "    thread_id=thread.id,\n",
    "    role=\"user\",\n",
    "    # give an example of a user message that the agent can respond to\n",
    "    content=\"What do I need to start a company in California?\",\n",
    ")\n",
    "print(f\"Created message, ID: {message.id}\")"
   ]
  },
  {
   "cell_type": "code",
   "execution_count": null,
   "metadata": {},
   "outputs": [],
   "source": [
    "run = project_client.agents.runs.create(thread_id=thread.id, agent_id=agent.id)\n",
    "print(f\"Run finished with status: {run.status}\")\n",
    "\n",
    "while run.status in (\"queued\", \"in_progress\"):\n",
    "    time.sleep(1)\n",
    "    run = project_client.agents.runs.get(thread_id=thread.id, run_id=run.id)\n",
    "\n",
    "print(f\"Run finished with status: {run.status}, ID: {run.id}\")\n",
    "\n",
    "if run.status == \"failed\":\n",
    "    print(f\"Run failed: {run.last_error}\")\n",
    "\n",
    "# Delete the agent resource to clean up\n",
    "project_client.agents.delete_agent(agent.id)\n",
    "print(\"Deleted agent\")"
   ]
  },
  {
   "cell_type": "code",
   "execution_count": 22,
   "metadata": {},
   "outputs": [
    {
     "name": "stdout",
     "output_type": "stream",
     "text": [
      "Text: Starting a company in California is an exciting endeavor! Here’s a practical checklist of what you’ll typically need:\n",
      "\n",
      "---\n",
      "\n",
      "**1. Decide on Your Business Structure**\n",
      "- **Sole Proprietorship, Partnership, LLC, Corporation, or others** (LLC and Corporation are the most common for liability protection).\n",
      "\n",
      "**2. Choose and Reserve a Business Name**\n",
      "- Check availability using the [California Secretary of State’s website](https://businesssearch.sos.ca.gov/).\n",
      "- Make sure you comply with naming rules for your chosen entity type.\n",
      "- Optionally reserve your name online or by mail.\n",
      "\n",
      "**3. Register Your Business**\n",
      "- **LLC:** File Articles of Organization (Form LLC-1) with the Secretary of State.\n",
      "- **Corporation:** File Articles of Incorporation (Form ARTS-GS for general stock).\n",
      "- **Sole Proprietorship/Partnership:** Generally, no state-level filing required.\n",
      "\n",
      "**4. Obtain an Employer Identification Number (EIN)**\n",
      "- Apply for free at the [IRS website](https://www.irs.gov/businesses/small-businesses-self-employed/apply-for-an-employer-identification-number-ein-online).\n",
      "\n",
      "**5. Register for State Taxes**\n",
      "- May need to register with the California Department of Tax and Fee Administration (CDTFA) for sales tax or other state-level taxes.\n",
      "\n",
      "**6. File a Statement of Information**\n",
      "- Required for corporations and LLCs, filed with the Secretary of State after registration and usually every year or two.\n",
      "\n",
      "**7. Obtain Necessary Permits and Licenses**\n",
      "- Check local city/county requirements (business license, zoning permit, health permit, etc.).\n",
      "- The [CalGOLD website](https://calgold.ca.gov/) can help you identify the specific permits you’ll need.\n",
      "\n",
      "**8. Comply with Additional Requirements**\n",
      "- Register a DBA (\"Doing Business As\") if operating under a different name.\n",
      "- Get business insurance (strongly recommended).\n",
      "- Consider opening a separate business bank account.\n",
      "\n",
      "**9. Comply with Employer Obligations (if hiring)**\n",
      "- Register as an employer with the California Employment Development Department (EDD).\n",
      "- Obtain workers’ compensation insurance.\n",
      "\n",
      "---\n",
      "\n",
      "**A Quick Example:**  \n",
      "If you want to start a consulting LLC:\n",
      "- Reserve your name (optional).\n",
      "- File Articles of Organization (LLC-1).\n",
      "- Apply for an EIN.\n",
      "- File Statement of Information.\n",
      "- Get your city’s business license.\n",
      "- Open your business bank account.\n",
      "\n",
      "Would you like details for a specific business type or help with any forms?\n",
      "Text: What do I need to start a company in California?\n"
     ]
    }
   ],
   "source": [
    "# Fetch and log all messages exchanged during the conversation thread\n",
    "messages = project_client.agents.messages.list(thread_id=thread.id)\n",
    "for m in messages:\n",
    "    content = m.get(\"content\", [])\n",
    "    if content and content[0].get(\"type\") == \"text\":\n",
    "        text_value = content[0].get(\"text\", {}).get(\"value\", \"\")\n",
    "        print(f\"Text: {text_value}\")"
   ]
  }
 ],
 "metadata": {
  "kernelspec": {
   "display_name": ".venv",
   "language": "python",
   "name": "python3"
  },
  "language_info": {
   "codemirror_mode": {
    "name": "ipython",
    "version": 3
   },
   "file_extension": ".py",
   "mimetype": "text/x-python",
   "name": "python",
   "nbconvert_exporter": "python",
   "pygments_lexer": "ipython3",
   "version": "3.12.8"
  }
 },
 "nbformat": 4,
 "nbformat_minor": 2
}
