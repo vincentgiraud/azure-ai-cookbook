{
 "cells": [
  {
   "cell_type": "code",
   "execution_count": 44,
   "metadata": {},
   "outputs": [],
   "source": [
    "import os\n",
    "import jsonref\n",
    "from azure.ai.projects import AIProjectClient\n",
    "from azure.identity import DefaultAzureCredential\n",
    "from azure.ai.projects.models import OpenApiTool, OpenApiAnonymousAuthDetails\n",
    "from dotenv import load_dotenv"
   ]
  },
  {
   "cell_type": "code",
   "execution_count": 45,
   "metadata": {},
   "outputs": [
    {
     "data": {
      "text/plain": [
       "True"
      ]
     },
     "execution_count": 45,
     "metadata": {},
     "output_type": "execute_result"
    }
   ],
   "source": [
    "# Load environment variables from .env file\n",
    "load_dotenv()"
   ]
  },
  {
   "cell_type": "code",
   "execution_count": 46,
   "metadata": {},
   "outputs": [],
   "source": [
    "# Create an Azure AI Client from a connection string, copied from your Azure AI Foundry project.\n",
    "# It should be in the format \"<HostName>;<AzureSubscriptionId>;<ResourceGroup>;<HubName>\"\n",
    "# Customers need to login to Azure subscription via Azure CLI and set the environment variables\n",
    "\n",
    "project_client = AIProjectClient.from_connection_string(\n",
    "    credential=DefaultAzureCredential(),\n",
    "    conn_str=os.environ[\"PROJECT_CONNECTION_STRING\"],\n",
    ")\n"
   ]
  },
  {
   "cell_type": "code",
   "execution_count": 47,
   "metadata": {},
   "outputs": [],
   "source": [
    "with open('mockbin_api.json', 'r') as f:\n",
    "    openapi_spec = jsonref.loads(f.read())\n",
    "\n",
    "# Create Auth object for the OpenApiTool (note that connection or managed identity auth setup requires additional setup in Azure)\n",
    "auth = OpenApiAnonymousAuthDetails()"
   ]
  },
  {
   "cell_type": "code",
   "execution_count": 48,
   "metadata": {},
   "outputs": [],
   "source": [
    "# Initialize agent OpenAPI tool using the read in OpenAPI spec\n",
    "openapi = OpenApiTool(name=\"get_catfacts\", spec=openapi_spec, description=\"Facts about cats\", auth=auth)"
   ]
  },
  {
   "cell_type": "code",
   "execution_count": null,
   "metadata": {},
   "outputs": [
    {
     "name": "stdout",
     "output_type": "stream",
     "text": [
      "Created agent, ID: asst_atIZZH4vjfyIb7YxUeSvGlgl\n",
      "Created thread, ID: thread_CAZF5fVs3tPnkpAAKZumoAEs\n",
      "Created message, ID: msg_vkh1qRpkYUGgqAI973ReSPaa\n",
      "Run finished with status: RunStatus.COMPLETED\n",
      "Deleted agent\n",
      "Messages: {'object': 'list', 'data': [{'id': 'msg_4usucAgB8yd03zMz8XRTtxuZ', 'object': 'thread.message', 'created_at': 1740681694, 'assistant_id': 'asst_atIZZH4vjfyIb7YxUeSvGlgl', 'thread_id': 'thread_CAZF5fVs3tPnkpAAKZumoAEs', 'run_id': 'run_XerbXGJIcorfiJAcWciFlU3P', 'role': 'assistant', 'content': [{'type': 'text', 'text': {'value': \"It seems there was an error when attempting to retrieve the cat fact. Unfortunately, without additional details about the error, it's difficult to pinpoint the exact cause. Possible reasons could include:\\n\\n1. Network issues or connectivity problems.\\n2. The API endpoint might be temporarily down or unavailable.\\n3. There could be an issue with the parameters sent in the request.\\n4. There might be restrictions or limitations on the API usage.\\n\\nIf you can, please try again later, or let me know if you have any other requests or need assistance with something else!\", 'annotations': []}}], 'attachments': [], 'metadata': {}}, {'id': 'msg_vkh1qRpkYUGgqAI973ReSPaa', 'object': 'thread.message', 'created_at': 1740681692, 'assistant_id': None, 'thread_id': 'thread_CAZF5fVs3tPnkpAAKZumoAEs', 'run_id': None, 'role': 'user', 'content': [{'type': 'text', 'text': {'value': 'Tell me 1 fact for 1 cat animal type. If error calling the API explain why', 'annotations': []}}], 'attachments': [], 'metadata': {}}], 'first_id': 'msg_4usucAgB8yd03zMz8XRTtxuZ', 'last_id': 'msg_vkh1qRpkYUGgqAI973ReSPaa', 'has_more': False}\n"
     ]
    }
   ],
   "source": [
    "# Create agent with OpenAPI tool and process assistant run\n",
    "with project_client:\n",
    "    agent = project_client.agents.create_agent(\n",
    "        model=os.environ[\"O_MODEL_DEPLOYMENT_NAME\"],\n",
    "        name=\"my-assistant\",\n",
    "        instructions=\"You are a helpful assistant\",\n",
    "        tools=openapi.definitions\n",
    "    )\n",
    "    print(f\"Created agent, ID: {agent.id}\")\n",
    "\n",
    "    # Create thread for communication\n",
    "    thread = project_client.agents.create_thread()\n",
    "    print(f\"Created thread, ID: {thread.id}\")\n",
    "\n",
    "    # Create message to thread\n",
    "    message = project_client.agents.create_message(\n",
    "        thread_id=thread.id,\n",
    "        role=\"user\",\n",
    "        content=\"Tell me a cat fact\",\n",
    "    )\n",
    "    print(f\"Created message, ID: {message.id}\")\n",
    "\n",
    "    # Create and process agent run in thread with tools\n",
    "    run = project_client.agents.create_and_process_run(thread_id=thread.id, assistant_id=agent.id)\n",
    "    print(f\"Run finished with status: {run.status}\")\n",
    "\n",
    "    if run.status == \"failed\":\n",
    "        print(f\"Run failed: {run.last_error}\")\n",
    "\n",
    "    # Delete the assistant when done\n",
    "    project_client.agents.delete_agent(agent.id)\n",
    "    print(\"Deleted agent\")\n",
    "\n",
    "    # Fetch and log all messages\n",
    "    messages = project_client.agents.list_messages(thread_id=thread.id)\n",
    "    print(f\"Messages: {messages}\")"
   ]
  }
 ],
 "metadata": {
  "kernelspec": {
   "display_name": ".venv",
   "language": "python",
   "name": "python3"
  },
  "language_info": {
   "codemirror_mode": {
    "name": "ipython",
    "version": 3
   },
   "file_extension": ".py",
   "mimetype": "text/x-python",
   "name": "python",
   "nbconvert_exporter": "python",
   "pygments_lexer": "ipython3",
   "version": "3.12.8"
  }
 },
 "nbformat": 4,
 "nbformat_minor": 2
}
