{
 "cells": [
  {
   "cell_type": "markdown",
   "metadata": {},
   "source": [
    "# Models and Capacity\n",
    "Get capacity based on your main subscription quotas"
   ]
  },
  {
   "cell_type": "code",
   "execution_count": 27,
   "metadata": {},
   "outputs": [],
   "source": [
    "from azure.identity import DefaultAzureCredential\n",
    "import requests,json,os\n",
    "import pandas as pd\n",
    "\n",
    "credential = DefaultAzureCredential()\n",
    "token = credential.get_token(\"https://management.azure.com/.default\").token\n",
    "headers= {'Authorization': f'Bearer {token}', 'Content-Type': 'application/json'}"
   ]
  },
  {
   "cell_type": "code",
   "execution_count": null,
   "metadata": {},
   "outputs": [],
   "source": [
    "subs = requests.get('https://management.azure.com/subscriptions?api-version=2022-12-01',headers=headers).json()\n",
    "if 'value' in subs:\n",
    "    subId=subs['value'][0]['subscriptionId']\n",
    "    print(f\"Using subscription {subId}\")\n",
    "else:\n",
    "    print(\"No subscriptions found\")"
   ]
  },
  {
   "cell_type": "code",
   "execution_count": null,
   "metadata": {},
   "outputs": [],
   "source": [
    "models=[]\n",
    "# Get the locations\n",
    "uri=f\"https://management.azure.com/subscriptions/{subId}/locations?api-version=2022-12-01\"\n",
    "locs = requests.get(uri,headers=headers).json()\n",
    "for loc in locs['value']:\n",
    "    location=loc['name']\n",
    "    try:\n",
    "        response = requests.get(f\"https://management.azure.com/subscriptions/{subId}/providers/Microsoft.CognitiveServices/locations/{location}/models?api-version=2023-05-01\",headers=headers,timeout=10)\n",
    "        if response.status_code == 200:\n",
    "            print(f\"Models {location}\")\n",
    "            for val in response.json()['value']:\n",
    "                for sku in val['model']['skus']:\n",
    "                    item={}\n",
    "                    item['model']=val['model']['name']\n",
    "                    item['version']=val['model']['version']\n",
    "                    item['kind']=val['kind']\n",
    "                    # Check if the model is in the list\n",
    "                    if item not in models:\n",
    "                        models.append(item)\n",
    "    except Exception as ex:\n",
    "        print(location,'Unable to pull',ex)           \n"
   ]
  },
  {
   "cell_type": "code",
   "execution_count": 30,
   "metadata": {},
   "outputs": [],
   "source": [
    "def GetModelCapacities(subId,modelVersion,modelName,modelFormat):\n",
    "\n",
    "    uri=f\"https://management.azure.com/subscriptions/{subId}/providers/Microsoft.CognitiveServices/modelCapacities?api-version=2024-04-01-preview&modelFormat={modelFormat}&modelName={modelName}&modelVersion={modelVersion}\"\n",
    "    items=[]\n",
    "\n",
    "    while uri:\n",
    "        print(uri)\n",
    "        request=requests.get(uri, headers=headers,timeout=15)\n",
    "        print(request.status_code)\n",
    "\n",
    "        \n",
    "        #loop through the value attribute of the response and generate embeddings for each content\n",
    "        if 200 == request.status_code:\n",
    "            response=request.json()\n",
    "            for val in response['value']:\n",
    "                item={}\n",
    "                item['id']=val['id']\n",
    "                item['name']=val['name']\n",
    "                item['location']=val['location']\n",
    "                item['modelName']=modelName\n",
    "                item['modelVersion']=modelVersion\n",
    "                item['modelFormat']=modelFormat\n",
    "                item['availableCapacity']=val['properties']['availableCapacity']\n",
    "                items.append(item)\n",
    "\n",
    "            #check if the odata.nextLink attribute is present in the response\n",
    "            if 'nextLink' in response:\n",
    "                uri=response['nextLink']\n",
    "            else:\n",
    "                uri=None\n",
    "        else:\n",
    "            print(request.content)\n",
    "            uri=None\n",
    "    return items\n"
   ]
  },
  {
   "cell_type": "markdown",
   "metadata": {},
   "source": [
    "# Capacity\n",
    "Gpt models"
   ]
  },
  {
   "cell_type": "code",
   "execution_count": null,
   "metadata": {},
   "outputs": [],
   "source": [
    "# Comment this out if you want them all\n",
    "models = list(set([(m['model'],m['version'],m['kind']) for m in models if m['model'].startswith('gpt')]))\n",
    "\n",
    "capacities=[]\n",
    "for model,version,kind in models:\n",
    "    print(model,version,kind)\n",
    "    try:\n",
    "        items = GetModelCapacities(subId,version,model,kind)\n",
    "        capacities.extend(items)\n",
    "    except Exception as ex:\n",
    "        print(ex)\n",
    "\n",
    "# file_path = f'Files/modelCapacities.json'\n",
    "# os.makedirs(os.path.dirname(file_path), exist_ok=True)\n",
    "# with open(file_path, 'w') as f:\n",
    "#     json.dump(capacities, f)"
   ]
  },
  {
   "cell_type": "markdown",
   "metadata": {},
   "source": [
    "# Explore\n",
    "Gpt-4o capacity "
   ]
  },
  {
   "cell_type": "code",
   "execution_count": null,
   "metadata": {},
   "outputs": [],
   "source": [
    "df = pd.DataFrame(capacities)\n",
    "# Filter out the ones with no capacity\n",
    "df = df[df['availableCapacity'] > 0]\n",
    "df = df[df['name'] == 'ProvisionedManaged']\n",
    "# Filter out the ones that are not gpt-4o\n",
    "# df = df[df['modelName'].str.startswith('gpt-4o')]\n",
    "# List by location and model and sort by that too\n",
    "df = df.sort_values(by=['location','modelName','modelVersion','modelFormat'])\n",
    "# display without wrapping\n",
    "pd.set_option('display.expand_frame_repr', False)\n",
    "# display the location,modelName,modelVersion,modelFormat,availableCapacity\n",
    "df = df[['location','modelName','modelVersion','modelFormat','availableCapacity']]\n",
    "print(df)\n"
   ]
  }
 ],
 "metadata": {
  "kernelspec": {
   "display_name": "venv",
   "language": "python",
   "name": "python3"
  },
  "language_info": {
   "codemirror_mode": {
    "name": "ipython",
    "version": 3
   },
   "file_extension": ".py",
   "mimetype": "text/x-python",
   "name": "python",
   "nbconvert_exporter": "python",
   "pygments_lexer": "ipython3",
   "version": "3.11.7"
  }
 },
 "nbformat": 4,
 "nbformat_minor": 2
}
