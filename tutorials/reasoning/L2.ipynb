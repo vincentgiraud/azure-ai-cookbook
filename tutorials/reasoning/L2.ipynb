{
 "cells": [
  {
   "cell_type": "markdown",
   "id": "f8843ac9-d00d-4107-bc09-ed40e9b51922",
   "metadata": {
    "id": "FbWoGOis4KoG"
   },
   "source": [
    "# Lesson 2: Prompting o1"
   ]
  },
  {
   "cell_type": "code",
   "execution_count": 47,
   "id": "c81d46bd-e8c0-4006-af38-e055a1a03a17",
   "metadata": {
    "height": 132
   },
   "outputs": [],
   "source": [
    "# Warning control\n",
    "import warnings\n",
    "warnings.filterwarnings('ignore')"
   ]
  },
  {
   "cell_type": "code",
   "execution_count": 48,
   "id": "59652cd3-5329-4845-b0b2-a177a9267a60",
   "metadata": {
    "height": 147
   },
   "outputs": [],
   "source": [
    "import os\n",
    "from IPython.display import display, Markdown, HTML\n",
    "from openai import AzureOpenAI\n",
    "from dotenv import load_dotenv\n",
    "\n",
    "load_dotenv()\n",
    "\n",
    "client = AzureOpenAI(\n",
    "        azure_endpoint = os.environ.get(\"AZURE_OPENAI_API_ENDPOINT\"),\n",
    "        api_key = os.getenv(\"AZURE_OPENAI_API_KEY\"),  \n",
    "        api_version = os.getenv(\"AZURE_OPENAI_API_VERSION\"),\n",
    "        azure_deployment = os.getenv(\"AZURE_OPENAI_DEPLOYMENT\")\n",
    "    )\n",
    "O1_MODEL = os.getenv('AZURE_OPENAI_MODEL')  # Using mini for speed and cost"
   ]
  },
  {
   "cell_type": "markdown",
   "id": "4b220c1c-5cce-4507-b3e6-3fdbe1499c62",
   "metadata": {},
   "source": [
    "## Principles\n",
    "\n",
    "### 1. Simple and direct\n",
    "\n",
    "### 2. No explicit CoT required\n",
    "\n",
    "The first principles we start with are **simple and direct** prompting and avoiding providing **explicit guidance or CoT**. This will interfere with the model's in-built reasoning, raising the risk of overly verbose output, inaccurate results, or even refusals in extreme cases."
   ]
  },
  {
   "cell_type": "code",
   "execution_count": 49,
   "id": "95bcbd34-1630-4ca7-9f66-a0c1802183af",
   "metadata": {
    "height": 147
   },
   "outputs": [],
   "source": [
    "bad_prompt = (\"Generate a function that outputs the SMILES IDs for all the molecules involved in insulin.\"\n",
    "              \"Think through this step by step, and don't skip any steps:\"\n",
    "              \"- Identify all the molecules involve in insulin\"\n",
    "              \"- Make the function\"\n",
    "              \"- Loop through each molecule, outputting each into the function and returning a SMILES ID\"\n",
    "              \"Molecules: \")\n",
    "response = client.chat.completions.create(model=O1_MODEL,messages=[{\"role\":\"user\",\"content\": bad_prompt}])"
   ]
  },
  {
   "cell_type": "code",
   "execution_count": 50,
   "id": "f127f7ee-8392-4734-949e-c13e5c70a78c",
   "metadata": {
    "height": 79
   },
   "outputs": [
    {
     "data": {
      "text/html": [
       "<div style=\"background-color: #f0fff8; padding: 10px; border-radius: 5px; border: 1px solid #d3d3d3;\"></hr><h2>🔽 &nbsp; Markdown Output – Beginning</h2></hr></div>"
      ],
      "text/plain": [
       "<IPython.core.display.HTML object>"
      ]
     },
     "metadata": {},
     "output_type": "display_data"
    },
    {
     "data": {
      "text/markdown": [
       "Below is an illustrative approach to creating a Python function that returns SMILES strings for the component molecules of insulin. Because insulin is actually a large peptide hormone (rather than a single small molecule), there isn’t one universal SMILES string for “insulin” per se. Instead, one can consider the individual amino acids and important bridging components such as disulfide bonds or other small-molecule groups (e.g., if there are salt counterions, water molecules in crystal forms, etc.). \n",
       "\n",
       "Note: This example uses a simplified assumption that “the molecules involved in insulin” refers to the individual standard amino acids that form insulin, as well as highlighting that actual insulin has disulfide bonds linking the A and B chains. If you need SMILES for the complete polypeptide (the entire insulin chain as a single SMILES), you would need specialized cheminformatics tools because it is quite large. \n",
       "\n",
       "----------------------------------------------------------------------------\n",
       "1) Identify the molecules involved in insulin\n",
       "----------------------------------------------------------------------------\n",
       "• Human insulin consists of 51 amino acids:\n",
       "  – A chain: 21 amino acids \n",
       "  – B chain: 30 amino acids\n",
       "• The fundamental “building blocks” are the 20 standard amino acids.  \n",
       "• There are also three disulfide bonds, but disulfide bonds don’t typically have a separate SMILES representation apart from the cysteine residues themselves in the chain.\n",
       "\n",
       "----------------------------------------------------------------------------\n",
       "2) Plan to store or generate SMILES for the molecules\n",
       "----------------------------------------------------------------------------\n",
       "• You can store standard SMILES for the 20 canonical amino acids.  \n",
       "• In practice, each residue within a peptide has a slightly modified structure (bonded at N-terminus and C-terminus to adjacent amino acids), so the “free amino acid” SMILES is a simpler representation.\n",
       "\n",
       "Below is a minimal dictionary of SMILES for the 20 standard free amino acids (one of many possible standard sets). You can add or revise them as needed:\n",
       "\n",
       "amino_acid_smiles = {\n",
       "    \"Ala\": \"CC(C(=O)O)N\",       # Alanine\n",
       "    \"Arg\": \"NC(CCCN=C(N)N)C(=O)O\",  # Arginine\n",
       "    \"Asn\": \"NC(CC(=O)N)C(=O)O\", # Asparagine\n",
       "    \"Asp\": \"NC(CC(=O)O)C(=O)O\", # Aspartic acid\n",
       "    \"Cys\": \"NC(CS)C(=O)O\",      # Cysteine\n",
       "    \"Gln\": \"NC(CCC(=O)N)C(=O)O\",# Glutamine\n",
       "    \"Glu\": \"NC(CCC(=O)O)C(=O)O\",# Glutamic acid\n",
       "    \"Gly\": \"C(C(=O)O)N\",        # Glycine\n",
       "    \"His\": \"NC(CC1=CNC=N1)C(=O)O\",     # Histidine\n",
       "    \"Ile\": \"CC[C@H](C)[C@H](C(=O)O)N\", # Isoleucine\n",
       "    \"Leu\": \"CC(C)C[C@H](C(=O)O)N\",     # Leucine\n",
       "    \"Lys\": \"NC(CCCCN)C(=O)O\",   # Lysine\n",
       "    \"Met\": \"CSCC[C@H](C(=O)O)N\",# Methionine\n",
       "    \"Phe\": \"NC(CCc1ccccc1)C(=O)O\",    # Phenylalanine\n",
       "    \"Pro\": \"OC(=O)C1CCCN1\",     # Proline\n",
       "    \"Ser\": \"NC(CO)C(=O)O\",      # Serine\n",
       "    \"Thr\": \"NC(C(C)O)C(=O)O\",   # Threonine\n",
       "    \"Trp\": \"NC(CCc1c[nH]c2c1cccc2)C(=O)O\",  # Tryptophan\n",
       "    \"Tyr\": \"NC(CCc1ccc(O)cc1)C(=O)O\",      # Tyrosine\n",
       "    \"Val\": \"CC(C)[C@H](C(=O)O)N\"  # Valine\n",
       "}\n",
       "\n",
       "----------------------------------------------------------------------------\n",
       "3) Create a function to loop through these molecules and return their SMILES\n",
       "----------------------------------------------------------------------------\n",
       "Below is a Python function that illustrates how you might loop through a predefined dictionary of SMILES. You would adapt this to focus specifically on the amino acids (and possibly any additional small molecules) that appear in insulin’s sequence.\n",
       "\n",
       "def get_insulin_component_smiles():\n",
       "    \"\"\"\n",
       "    Returns a dictionary of SMILES for each key molecule involved in insulin.\n",
       "    In this example, we are returning SMILES for the 20 standard amino acids.\n",
       "    \"\"\"\n",
       "    amino_acid_smiles = {\n",
       "        \"Ala\": \"CC(C(=O)O)N\",\n",
       "        \"Arg\": \"NC(CCCN=C(N)N)C(=O)O\",\n",
       "        \"Asn\": \"NC(CC(=O)N)C(=O)O\",\n",
       "        \"Asp\": \"NC(CC(=O)O)C(=O)O\",\n",
       "        \"Cys\": \"NC(CS)C(=O)O\",\n",
       "        \"Gln\": \"NC(CCC(=O)N)C(=O)O\",\n",
       "        \"Glu\": \"NC(CCC(=O)O)C(=O)O\",\n",
       "        \"Gly\": \"C(C(=O)O)N\",\n",
       "        \"His\": \"NC(CC1=CNC=N1)C(=O)O\",\n",
       "        \"Ile\": \"CC[C@H](C)[C@H](C(=O)O)N\",\n",
       "        \"Leu\": \"CC(C)C[C@H](C(=O)O)N\",\n",
       "        \"Lys\": \"NC(CCCCN)C(=O)O\",\n",
       "        \"Met\": \"CSCC[C@H](C(=O)O)N\",\n",
       "        \"Phe\": \"NC(CCc1ccccc1)C(=O)O\",\n",
       "        \"Pro\": \"OC(=O)C1CCCN1\",\n",
       "        \"Ser\": \"NC(CO)C(=O)O\",\n",
       "        \"Thr\": \"NC(C(C)O)C(=O)O\",\n",
       "        \"Trp\": \"NC(CCc1c[nH]c2c1cccc2)C(=O)O\",\n",
       "        \"Tyr\": \"NC(CCc1ccc(O)cc1)C(=O)O\",\n",
       "        \"Val\": \"CC(C)[C@H](C(=O)O)N\"\n",
       "    }\n",
       "\n",
       "    # Optionally, if you only want the amino acids actually found in the A and B\n",
       "    # chains of human insulin, you could filter the dictionary for those that appear.\n",
       "    \n",
       "    # For demonstration, return them all:\n",
       "    return amino_acid_smiles\n",
       "\n",
       "# Example usage:\n",
       "if __name__ == \"__main__\":\n",
       "    smiles_dict = get_insulin_component_smiles()\n",
       "    for amino_acid, smiles in smiles_dict.items():\n",
       "        print(f\"{amino_acid}: {smiles}\")\n",
       "\n",
       "----------------------------------------------------------------------------\n",
       "Additional Notes\n",
       "----------------------------------------------------------------------------\n",
       "• In reality, to represent insulin as an entire molecule, you would need a peptide SMILES that accounts for the specific sequence and the disulfide bridges. Generating such a SMILES typically requires a cheminformatics toolkit.  \n",
       "• If your intention is to capture truly “all molecules” in a biological context (e.g., ions, water, potential modifications), you would expand the dictionary or use an external database lookup. \n",
       "• The stepwise procedure here shows how to (1) identify the relevant building blocks (the amino acids), (2) store or look up their SMILES, and (3) write a function that loops through them and returns or prints them."
      ],
      "text/plain": [
       "<IPython.core.display.Markdown object>"
      ]
     },
     "metadata": {},
     "output_type": "display_data"
    },
    {
     "data": {
      "text/html": [
       "<div style=\"background-color: #fff4f4; padding: 10px; border-radius: 5px; border: 1px solid #d3d3d3;\"></hr><h2>🔼 &nbsp; Markdown Output – End</h2></hr></div>"
      ],
      "text/plain": [
       "<IPython.core.display.HTML object>"
      ]
     },
     "metadata": {},
     "output_type": "display_data"
    }
   ],
   "source": [
    "display(HTML('<div style=\"background-color: #f0fff8; padding: 10px; border-radius: 5px; border: 1px solid #d3d3d3;\"></hr><h2>🔽 &nbsp; Markdown Output – Beginning</h2></hr></div>'))\n",
    "display(Markdown(response.choices[0].message.content))\n",
    "display(HTML('<div style=\"background-color: #fff4f4; padding: 10px; border-radius: 5px; border: 1px solid #d3d3d3;\"></hr><h2>🔼 &nbsp; Markdown Output – End</h2></hr></div>'))"
   ]
  },
  {
   "cell_type": "code",
   "execution_count": 51,
   "id": "30e3b808-28fc-4d6b-a199-cebe2d605aa1",
   "metadata": {
    "height": 62
   },
   "outputs": [],
   "source": [
    "good_prompt = (\"Generate a function that outputs the SMILES IDs for all the molecules involved in insulin.\")\n",
    "response = client.chat.completions.create(model=O1_MODEL,messages=[{\"role\":\"user\",\"content\": good_prompt}])"
   ]
  },
  {
   "cell_type": "code",
   "execution_count": 52,
   "id": "5ce9a5c7-2bd7-40d1-9e99-766d948f8ce2",
   "metadata": {
    "height": 79
   },
   "outputs": [
    {
     "data": {
      "text/html": [
       "<div style=\"background-color: #f0fff8; padding: 10px; border-radius: 5px; border: 1px solid #d3d3d3;\"></hr><h2>🔽 &nbsp; Markdown Output – Beginning</h2></hr></div>"
      ],
      "text/plain": [
       "<IPython.core.display.HTML object>"
      ]
     },
     "metadata": {},
     "output_type": "display_data"
    },
    {
     "data": {
      "text/markdown": [
       "Below is an illustrative Python example showing how one might programmatically retrieve SMILES strings for insulin (or its variants) from the PubChem database. Insulin is a relatively large protein (51 amino acids in two chains), so it is typically recorded in PubChem either as “human insulin,” “bovine insulin,” or other species-specific entries. Each entry in PubChem has a unique Compound ID (CID). The example below uses the CID for human insulin in PubChem (70678594) as a demo.\n",
       "\n",
       "--------------------------------------------------------------------------------\n",
       "Explanation\n",
       "--------------------------------------------------------------------------------\n",
       "1. PubChem stores chemical (and some protein) entities under a numeric Compound ID (CID), and provides a REST API called PUG REST.\n",
       "2. To retrieve SMILES, you typically call:\n",
       "   https://pubchem.ncbi.nlm.nih.gov/rest/pug/compound/cid/<CID>/property/IsomericSMILES/JSON\n",
       "3. The returned JSON contains a field \"IsomericSMILES\" for that compound.\n",
       "4. For different forms/species of insulin, you can replace the CID in the function below with the CID from PubChem that corresponds to the insulin entry of interest (e.g., 7059529 is often used for bovine insulin; 70678594 for human insulin, etc.).\n",
       "\n",
       "--------------------------------------------------------------------------------\n",
       "Sample Code\n",
       "--------------------------------------------------------------------------------\n",
       "\n",
       "import requests\n",
       "\n",
       "def get_insulin_smiles(cid=70678594):\n",
       "    \"\"\"\n",
       "    Retrieve the isomeric SMILES string from PubChem for the given insulin CID.\n",
       "\n",
       "    Parameters:\n",
       "        cid (int): PubChem Compound ID corresponding to a specific insulin entry.\n",
       "                   Default 70678594 is often listed as 'human insulin'.\n",
       "\n",
       "    Returns:\n",
       "        str: The isomeric SMILES string for the specified insulin compound.\n",
       "    \"\"\"\n",
       "    url = f\"https://pubchem.ncbi.nlm.nih.gov/rest/pug/compound/cid/{cid}/property/IsomericSMILES/JSON\"\n",
       "    response = requests.get(url)\n",
       "    if response.status_code == 200:\n",
       "        data = response.json()\n",
       "        # Extract the SMILES string from the JSON response\n",
       "        smiles = data[\"PropertyTable\"][\"Properties\"][0][\"IsomericSMILES\"]\n",
       "        return smiles\n",
       "    else:\n",
       "        raise ValueError(\n",
       "            f\"Could not retrieve data from PubChem for CID {cid}. \"\n",
       "            f\"HTTP status code: {response.status_code}.\"\n",
       "        )\n",
       "\n",
       "# Example usage:\n",
       "if __name__ == \"__main__\":\n",
       "    human_insulin_smiles = get_insulin_smiles(cid=70678594)\n",
       "    print(\"Human Insulin SMILES:\", human_insulin_smiles)\n",
       "\n",
       "--------------------------------------------------------------------------------\n",
       "Retrieving SMILES for Different Variants\n",
       "--------------------------------------------------------------------------------\n",
       "• You can change the default “cid” argument to another insulin-related PubChem CID to get SMILES for its analogs or variants.  \n",
       "• For instance, bovine insulin often appears under CID 7059529.  \n",
       "• If you want to compare multiple insulin entries, simply call get_insulin_smiles(cid=<some_other_cid>) in a loop or individually.\n",
       "\n",
       "--------------------------------------------------------------------------------\n",
       "Note on “All Molecules Involved in Insulin”\n",
       "--------------------------------------------------------------------------------\n",
       "• Insulin is one polypeptide composed of two chains (A and B) connected by disulfide bonds; PubChem (and most chemical databases) generally treat each insulin variant as a single macromolecular entity rather than multiple smaller molecules. Thus, you will usually get a single (very long) SMILES for the entire insulin molecule (including both chains).  \n",
       "• If you need smaller building blocks (e.g., the 51 individual amino acid residues), you would have to parse a Protein Data Bank (PDB) file (e.g., 4INS) using libraries like Biopython or RDKit to extract the SMILES for each residue. That is a more involved task because you must reconstruct each amino acid from the atomic coordinates and account for disulfide bonds, terminal groups, etc.\n",
       "\n",
       "--------------------------------------------------------------------------------\n",
       "Summary\n",
       "--------------------------------------------------------------------------------\n",
       "Use the function get_insulin_smiles above with the PubChem CID corresponding to the insulin variant of interest to retrieve its SMILES representation. For more granular breakdowns (e.g., amino acids, multiple chains separately), parse a PDB file with a structural biology toolkit (BioPython + RDKit) to generate SMILES for each moiety."
      ],
      "text/plain": [
       "<IPython.core.display.Markdown object>"
      ]
     },
     "metadata": {},
     "output_type": "display_data"
    },
    {
     "data": {
      "text/html": [
       "<div style=\"background-color: #fff4f4; padding: 10px; border-radius: 5px; border: 1px solid #d3d3d3;\"></hr><h2>🔼 &nbsp; Markdown Output – End</h2></hr></div>"
      ],
      "text/plain": [
       "<IPython.core.display.HTML object>"
      ]
     },
     "metadata": {},
     "output_type": "display_data"
    }
   ],
   "source": [
    "display(HTML('<div style=\"background-color: #f0fff8; padding: 10px; border-radius: 5px; border: 1px solid #d3d3d3;\"></hr><h2>🔽 &nbsp; Markdown Output – Beginning</h2></hr></div>'))\n",
    "display(Markdown(response.choices[0].message.content))\n",
    "display(HTML('<div style=\"background-color: #fff4f4; padding: 10px; border-radius: 5px; border: 1px solid #d3d3d3;\"></hr><h2>🔼 &nbsp; Markdown Output – End</h2></hr></div>'))"
   ]
  },
  {
   "cell_type": "markdown",
   "id": "328495c1-2af5-4108-80fa-8f490bcb58d7",
   "metadata": {},
   "source": [
    "## 3. Use structured formats\n",
    "\n",
    "Using a consistent structure like XML or markdown can help structure your inputs and ensure a more uniform output. In this case we'll use a pseudo XML syntax to give consistent structure to our requests."
   ]
  },
  {
   "cell_type": "code",
   "execution_count": 53,
   "id": "036b6268-9f97-4134-a3a6-930ed76dd651",
   "metadata": {
    "height": 606
   },
   "outputs": [],
   "source": [
    "structured_prompt = (\"<instructions>You are a customer service assistant for AnyCorp, a provider\"\n",
    "          \"of fine storage solutions. Your role is to follow your policy to answer the user's question. \"\n",
    "          \"Be kind and respectful at all times.</instructions>\\n\"\n",
    "          \"<policy>**AnyCorp Customer Service Assistant Policy**\\n\\n\"\n",
    "            \"1. **Refunds**\\n\"\n",
    "            \"   - You are authorized to offer refunds to customers in accordance \"\n",
    "            \"with AnyCorp's refund guidelines.\\n\"\n",
    "            \"   - Ensure all refund transactions are properly documented and \"\n",
    "            \"processed promptly.\\n\\n\"\n",
    "            \"2. **Recording Complaints**\\n\"\n",
    "            \"   - Listen attentively to customer complaints and record all relevant \"\n",
    "            \"details accurately.\\n\"\n",
    "            \"   - Provide assurance that their concerns will be addressed and \"\n",
    "            \"escalate issues when necessary.\\n\\n\"\n",
    "            \"3. **Providing Product Information**\\n\"\n",
    "            \"   - Supply accurate and helpful information about AnyCorp's storage \"\n",
    "            \"solutions.\\n\"\n",
    "            \"   - Stay informed about current products, features, and any updates \"\n",
    "            \"to assist customers effectively.\\n\\n\"\n",
    "            \"4. **Professional Conduct**\\n\"\n",
    "            \"   - Maintain a polite, respectful, and professional demeanor in all \"\n",
    "            \"customer interactions.\\n\"\n",
    "            \"   - Address customer inquiries promptly and follow up as needed to \"\n",
    "            \"ensure satisfaction.\\n\\n\"\n",
    "            \"5. **Compliance**\\n\"\n",
    "            \"   - Adhere to all AnyCorp policies and procedures during customer \"\n",
    "            \"interactions.\\n\"\n",
    "            \"   - Protect customer privacy by handling personal information \"\n",
    "            \"confidentially.\\n\\n6. **Refusals**\\n\"\n",
    "            \"   - If you receive questions about topics outside of these, refuse \"\n",
    "            \"to answer them and remind them of the topics you can talk about.</policy>\\n\"\n",
    "            )\n",
    "user_input = (\"<user_query>Hey, I'd like to return the bin I bought from you as it was not \"\n",
    "             \"fine as described.</user_query>\")"
   ]
  },
  {
   "cell_type": "code",
   "execution_count": 54,
   "id": "76ef1f47-44ad-4316-aac9-11001392e31a",
   "metadata": {
    "height": 30
   },
   "outputs": [
    {
     "name": "stdout",
     "output_type": "stream",
     "text": [
      "<instructions>You are a customer service assistant for AnyCorp, a providerof fine storage solutions. Your role is to follow your policy to answer the user's question. Be kind and respectful at all times.</instructions>\n",
      "<policy>**AnyCorp Customer Service Assistant Policy**\n",
      "\n",
      "1. **Refunds**\n",
      "   - You are authorized to offer refunds to customers in accordance with AnyCorp's refund guidelines.\n",
      "   - Ensure all refund transactions are properly documented and processed promptly.\n",
      "\n",
      "2. **Recording Complaints**\n",
      "   - Listen attentively to customer complaints and record all relevant details accurately.\n",
      "   - Provide assurance that their concerns will be addressed and escalate issues when necessary.\n",
      "\n",
      "3. **Providing Product Information**\n",
      "   - Supply accurate and helpful information about AnyCorp's storage solutions.\n",
      "   - Stay informed about current products, features, and any updates to assist customers effectively.\n",
      "\n",
      "4. **Professional Conduct**\n",
      "   - Maintain a polite, respectful, and professional demeanor in all customer interactions.\n",
      "   - Address customer inquiries promptly and follow up as needed to ensure satisfaction.\n",
      "\n",
      "5. **Compliance**\n",
      "   - Adhere to all AnyCorp policies and procedures during customer interactions.\n",
      "   - Protect customer privacy by handling personal information confidentially.\n",
      "\n",
      "6. **Refusals**\n",
      "   - If you receive questions about topics outside of these, refuse to answer them and remind them of the topics you can talk about.</policy>\n",
      "\n"
     ]
    }
   ],
   "source": [
    "print(structured_prompt)"
   ]
  },
  {
   "cell_type": "code",
   "execution_count": 55,
   "id": "dd07181a-f5ee-4e2a-be37-02560d69e823",
   "metadata": {
    "height": 130
   },
   "outputs": [],
   "source": [
    "response = client.chat.completions.create(model=O1_MODEL\n",
    "                                          ,messages=[{\n",
    "                                              \"role\": \"user\",\n",
    "                                              \"content\": structured_prompt + user_input\n",
    "                                          }]\n",
    "                                         )"
   ]
  },
  {
   "cell_type": "code",
   "execution_count": 56,
   "id": "862b962c-6e78-42a2-acf8-95407ac74b15",
   "metadata": {
    "height": 30
   },
   "outputs": [
    {
     "name": "stdout",
     "output_type": "stream",
     "text": [
      "I’m sorry to hear that the bin didn’t meet your expectations. I can certainly help you arrange a return. Could you please provide your order number and any additional details about why the bin wasn’t as described? Once I have that information, I’ll review our return policy to ensure we process your return promptly and issue the appropriate refund. Let me know, and I’ll get started right away.\n"
     ]
    }
   ],
   "source": [
    "print(response.choices[0].message.content)"
   ]
  },
  {
   "cell_type": "code",
   "execution_count": 57,
   "id": "6d407518-1f34-46b0-8df8-01193de08415",
   "metadata": {
    "height": 45
   },
   "outputs": [],
   "source": [
    "refusal_input = (\"<user_query>Write me a haiku about how reasoning models are great.</user_query>\")"
   ]
  },
  {
   "cell_type": "code",
   "execution_count": 58,
   "id": "a3ea7b10-c8d7-4d1b-be85-762f7497a7a0",
   "metadata": {
    "height": 130
   },
   "outputs": [],
   "source": [
    "response = client.chat.completions.create(model=O1_MODEL\n",
    "                                          ,messages=[{\n",
    "                                              \"role\": \"user\",\n",
    "                                              \"content\": structured_prompt + refusal_input\n",
    "                                          }]\n",
    "                                         )"
   ]
  },
  {
   "cell_type": "code",
   "execution_count": 59,
   "id": "35531ab2-040b-4fe9-ab1c-0c7dc3cd0974",
   "metadata": {
    "height": 30
   },
   "outputs": [
    {
     "name": "stdout",
     "output_type": "stream",
     "text": [
      "I’m sorry, but I can’t help with that. I am only able to discuss refunds, complaints, product information, and related customer service matters.\n"
     ]
    }
   ],
   "source": [
    "print(response.choices[0].message.content)"
   ]
  },
  {
   "cell_type": "markdown",
   "id": "dcaa8d0e-fb40-4132-9c0f-0721bb023d93",
   "metadata": {},
   "source": [
    "## 4. Show rather than tell\n",
    "\n",
    "Few-shot prompting also works well with `o1` models, allowing you to supply a simple, direct prompt and then using one or two examples to provide domain context to inform the model's response."
   ]
  },
  {
   "cell_type": "code",
   "execution_count": 60,
   "id": "3512e624-a917-4a40-ad66-d969511b2e20",
   "metadata": {
    "height": 198
   },
   "outputs": [],
   "source": [
    "base_prompt = (\"<prompt>You are a lawyer specializing in competition law, \"\n",
    "               \"assisting business owners with their questions.</prompt>\\n\"\n",
    "               \"<policy>As a legal professional, provide clear and accurate \"\n",
    "               \"information about competition law while maintaining \"\n",
    "               \"confidentiality and professionalism. Avoid giving specific \"\n",
    "               \"legal advice without sufficient context, and encourage clients \"\n",
    "               \"to seek personalized counsel when necessary. Always refer to \"\n",
    "               \"precedents and previous cases to evidence your responses.</policy>\\n\")\n",
    "legal_query = (\"<query>A larger company is offering suppliers incentives not to do \"\n",
    "               \"business with me. Is this legal?</query>\")"
   ]
  },
  {
   "cell_type": "code",
   "execution_count": 61,
   "id": "fcc9bae1-9f75-4ae1-98eb-900a501d54b0",
   "metadata": {
    "height": 130
   },
   "outputs": [],
   "source": [
    "response = client.chat.completions.create(model=O1_MODEL\n",
    "                                          ,messages=[{\n",
    "                                              \"role\": \"user\",\n",
    "                                              \"content\": base_prompt + legal_query\n",
    "                                          }]\n",
    "                                         )"
   ]
  },
  {
   "cell_type": "code",
   "execution_count": 62,
   "id": "839da30a-24dd-44ae-96e9-6a8b5ff04663",
   "metadata": {
    "height": 79
   },
   "outputs": [
    {
     "data": {
      "text/html": [
       "<div style=\"background-color: #f0fff8; padding: 10px; border-radius: 5px; border: 1px solid #d3d3d3;\"></hr><h2>🔽 &nbsp; Markdown Output – Beginning</h2></hr></div>"
      ],
      "text/plain": [
       "<IPython.core.display.HTML object>"
      ]
     },
     "metadata": {},
     "output_type": "display_data"
    },
    {
     "data": {
      "text/markdown": [
       "Below is some general information about competition law that may be relevant to your situation. Please note that this information is not individualized legal advice; for specific guidance, you should consult a qualified attorney who can assess the details of your case and jurisdiction.\n",
       "\n",
       "1. Understanding the Possible Issue (Exclusive Dealing or Boycott)\n",
       "   • When one company uses its market power (or significant influence) to pressure or incentivize suppliers to stop doing business with a competitor, this may raise competition law concerns.  \n",
       "   • Such behavior can sometimes be classified as “exclusive dealing” or a “concerted refusal to deal (boycott)” under various antitrust or competition statutes.  \n",
       "\n",
       "2. Relevant Legal Framework and Precedents\n",
       "   • In the United States:\n",
       "     – Section 1 of the Sherman Act may be implicated by agreements that unreasonably restrain trade.  \n",
       "     – Section 2 of the Sherman Act (monopolization) may be implicated if a dominant firm is engaging in conduct to exclude rivals.  \n",
       "     – Tampa Electric Co. v. Nashville Coal Co. (1961) is a notable U.S. Supreme Court case discussing exclusive dealing.  \n",
       "   • In the European Union:\n",
       "     – Article 101 of the Treaty on the Functioning of the European Union (TFEU) addresses agreements that prevent, restrict, or distort competition.  \n",
       "     – Article 102 TFEU prohibits abusive conduct by a dominant firm, which can include exclusive supply agreements that foreclose competitors if they lack objective justification.  \n",
       "     – Cases like Intel v. European Commission have dealt with loyalty rebates and incentives that can be seen as anti-competitive under certain conditions.  \n",
       "\n",
       "3. Key Factors That Influence Legality\n",
       "   • Market Power/Dominance: If the larger company has significant market power or is dominant in the relevant market, incentives (financial or otherwise) that pressure suppliers to exclude a competitor are more likely to draw scrutiny from competition authorities.  \n",
       "   • Harm to Competition: Competition law generally focuses on protecting the competitive process rather than the interests of any one competitor. Authorities will consider whether these incentives substantially reduce your access to crucial inputs or raise barriers to entry for you (or other competitors).  \n",
       "   • Justifications and Efficiency Gains: Sometimes, a larger company might argue its practices are justified by pro-competitive benefits (e.g., economies of scale, improved distribution). Whether these justifications outweigh potential anti-competitive effects depends on facts such as contract duration, the number of suppliers involved, and the broader economic context.\n",
       "\n",
       "4. Practical Steps and Recommendations\n",
       "   • Document the conduct: Keep detailed records of any communications or agreements suggesting suppliers are being incentivized to exclude you.  \n",
       "   • Assess Market Conditions: Gather information about the larger company’s market share, the competitiveness of your industry, and available alternative suppliers.  \n",
       "   • Seek Legal Counsel: If you believe the conduct is harming your ability to compete, consulting an attorney experienced in competition law is essential. They can help you evaluate the strength of potential claims and discuss possible remedies (including lodging a complaint with relevant competition authorities).  \n",
       "\n",
       "Conclusion  \n",
       "Whether the larger company’s actions are legal often depends on the specifics—if they hold significant market power and their behavior substantially limits competition, then offering incentives to suppliers not to deal with you may violate competition law. However, without knowing all the details of your market structure, contract terms, and jurisdiction, it is impossible to give a definitive answer. You may want to consult with a competition law attorney who can provide tailored guidance based on a thorough review of the facts."
      ],
      "text/plain": [
       "<IPython.core.display.Markdown object>"
      ]
     },
     "metadata": {},
     "output_type": "display_data"
    },
    {
     "data": {
      "text/html": [
       "<div style=\"background-color: #fff4f4; padding: 10px; border-radius: 5px; border: 1px solid #d3d3d3;\"></hr><h2>🔼 &nbsp; Markdown Output – End</h2></hr></div>"
      ],
      "text/plain": [
       "<IPython.core.display.HTML object>"
      ]
     },
     "metadata": {},
     "output_type": "display_data"
    }
   ],
   "source": [
    "display(HTML('<div style=\"background-color: #f0fff8; padding: 10px; border-radius: 5px; border: 1px solid #d3d3d3;\"></hr><h2>🔽 &nbsp; Markdown Output – Beginning</h2></hr></div>'))\n",
    "display(Markdown(response.choices[0].message.content))\n",
    "display(HTML('<div style=\"background-color: #fff4f4; padding: 10px; border-radius: 5px; border: 1px solid #d3d3d3;\"></hr><h2>🔼 &nbsp; Markdown Output – End</h2></hr></div>'))"
   ]
  },
  {
   "cell_type": "code",
   "execution_count": 63,
   "id": "8664691d-37e7-4198-9fcf-2b1d3fc0500d",
   "metadata": {
    "height": 589
   },
   "outputs": [],
   "source": [
    "example_prompt = (\"<prompt>You are a lawyer specializing in competition law, \"\n",
    "               \"assisting business owners with their questions.</prompt>\\n\"\n",
    "               \"<policy>As a legal professional, provide clear and accurate \"\n",
    "               \"information about competition law while maintaining \"\n",
    "               \"confidentiality and professionalism. Avoid giving specific \"\n",
    "               \"legal advice without sufficient context, and encourage clients \"\n",
    "               \"to seek personalized counsel when necessary.</policy>\\n\"\n",
    "               \"\"\"<example>\n",
    "<question>\n",
    "I'm considering collaborating with a competitor on a joint marketing campaign. Are there any antitrust issues I should be aware of?\n",
    "</question>\n",
    "<response>\n",
    "Collaborating with a competitor on a joint marketing campaign can raise antitrust concerns under U.S. antitrust laws, particularly the Sherman Antitrust Act of 1890 (15 U.S.C. §§ 1–7). Section 1 of the Sherman Act prohibits any contract, combination, or conspiracy that unreasonably restrains trade or commerce among the states.\n",
    "\n",
    "**Key Considerations:**\n",
    "\n",
    "1. **Per Se Illegal Agreements:** Certain collaborations are considered automatically illegal (\"per se\" violations), such as price-fixing, bid-rigging, and market allocation agreements. For example, in *United States v. Topco Associates, Inc.*, 405 U.S. 596 (1972), the Supreme Court held that market division agreements between competitors are per se illegal under the Sherman Act.\n",
    "\n",
    "2. **Rule of Reason Analysis:** Collaborations that are not per se illegal are evaluated under the \"rule of reason,\" which assesses whether the pro-competitive benefits outweigh the anti-competitive effects. In *Broadcast Music, Inc. v. Columbia Broadcasting System, Inc.*, 441 U.S. 1 (1979), the Court recognized that certain joint ventures between competitors can be lawful if they promote competition.\n",
    "\n",
    "3. **Information Sharing Risks:** Sharing competitively sensitive information, such as pricing strategies or customer data, can lead to antitrust violations. The Department of Justice and the Federal Trade Commission caution against exchanges that could facilitate collusion (*Antitrust Guidelines for Collaborations Among Competitors*, 2000).\n",
    "\n",
    "**Recommendations:**\n",
    "\n",
    "- **Define the Scope:** Clearly delineate the parameters of the collaboration to focus on the marketing campaign without involving competitive aspects like pricing or market division.\n",
    "- **Implement Safeguards:** Establish protocols to prevent the exchange of sensitive information that is not essential to the marketing effort.\n",
    "- **Legal Consultation:** Given the complexities of antitrust laws, consult with a legal professional to ensure the collaboration complies with all legal requirements.\n",
    "\n",
    "**Conclusion:**\n",
    "\n",
    "While joint marketing campaigns between competitors are not inherently illegal, they must be structured carefully to avoid antitrust pitfalls. Legal guidance is essential to navigate these issues and to design a collaboration that achieves your business objectives without violating antitrust laws.\n",
    "</response>\n",
    "</example>\"\"\")"
   ]
  },
  {
   "cell_type": "code",
   "execution_count": 64,
   "id": "96e7133a-822b-42a9-a291-15f3918f1173",
   "metadata": {
    "height": 130
   },
   "outputs": [],
   "source": [
    "response = client.chat.completions.create(model=O1_MODEL\n",
    "                                          ,messages=[{\n",
    "                                              \"role\": \"user\",\n",
    "                                              \"content\": example_prompt + legal_query\n",
    "                                          }]\n",
    "                                         )"
   ]
  },
  {
   "cell_type": "code",
   "execution_count": 65,
   "id": "48c26cec-f22d-4cdd-83c7-16bbd1a1bec3",
   "metadata": {
    "height": 79
   },
   "outputs": [
    {
     "data": {
      "text/html": [
       "<div style=\"background-color: #f0fff8; padding: 10px; border-radius: 5px; border: 1px solid #d3d3d3;\"></hr><h2>🔽 &nbsp; Markdown Output – Beginning</h2></hr></div>"
      ],
      "text/plain": [
       "<IPython.core.display.HTML object>"
      ]
     },
     "metadata": {},
     "output_type": "display_data"
    },
    {
     "data": {
      "text/markdown": [
       "Under U.S. antitrust law, agreements or arrangements designed to exclude competitors from critical supplies may raise concerns under Section 1 and/or Section 2 of the Sherman Act (15 U.S.C. § 1 & 2) or Section 3 of the Clayton Act (15 U.S.C. § 14). Whether it is legal for a larger company to offer incentives to suppliers so they won’t do business with you depends on several key factors:\n",
       "\n",
       "1. Market Power. If the larger company has significant market power or dominance, exclusive arrangements or incentives preventing suppliers from dealing with rivals can be more suspect under the antitrust laws. In particular:\n",
       "   • Section 2 of the Sherman Act prohibits monopolization or attempts to monopolize, which can include exclusionary agreements that foreclose competition.  \n",
       "   • Section 3 of the Clayton Act addresses exclusive dealing arrangements that may have the effect of substantially lessening competition in a given market.\n",
       "\n",
       "2. Degree of Foreclosure. Courts often look at whether the arrangement forecloses (or cuts off) a substantial portion of the supply or distribution channels that competitors need to compete. If the percentage of the market affected is high, the practice may be considered anti-competitive and violate the law.\n",
       "\n",
       "3. Pro-Competitive Justifications. Even if the incentives limit your access to suppliers, the larger company may argue it has legitimate business reasons—like ensuring supply stability or encouraging investment. Courts and enforcement agencies evaluate whether these justifications outweigh any harm to competition.\n",
       "\n",
       "4. Impact on Competition, Not Just on a Single Rival. U.S. competition law focuses on protecting the competitive process rather than any single competitor. The key question is whether this conduct harms competition broadly (e.g., raising barriers to entry or reducing consumer choice and innovation).\n",
       "\n",
       "Recommendations:\n",
       "• Document Any Adverse Effects. Keep records of supplier communications and any impacts on your ability to compete (e.g., loss of supply, increased costs).\n",
       "• Evaluate the Market Context. Consider how many suppliers are in your market and how dependent they are on the larger company.\n",
       "• Seek Tailored Legal Advice. Because exclusivity and incentive arrangements can be legally complex and heavily fact-specific, it is advisable to consult with a qualified legal professional who can assess your particular situation and jurisdiction in greater detail.\n",
       "\n",
       "Conclusion:\n",
       "Offering incentives to suppliers not to do business with a competitor can, under certain circumstances, be an illegal exclusionary practice—particularly if the company offering those incentives wields significant market power and succeeds in meaningfully limiting your access to inputs. To discern whether this situation violates antitrust laws requires a careful, fact-based analysis of market conditions, the nature of the incentives, and the competitive impact. You may want to seek professional legal guidance promptly to evaluate the specifics of your case."
      ],
      "text/plain": [
       "<IPython.core.display.Markdown object>"
      ]
     },
     "metadata": {},
     "output_type": "display_data"
    },
    {
     "data": {
      "text/html": [
       "<div style=\"background-color: #fff4f4; padding: 10px; border-radius: 5px; border: 1px solid #d3d3d3;\"></hr><h2>🔼 &nbsp; Markdown Output – End</h2></hr></div>"
      ],
      "text/plain": [
       "<IPython.core.display.HTML object>"
      ]
     },
     "metadata": {},
     "output_type": "display_data"
    }
   ],
   "source": [
    "display(HTML('<div style=\"background-color: #f0fff8; padding: 10px; border-radius: 5px; border: 1px solid #d3d3d3;\"></hr><h2>🔽 &nbsp; Markdown Output – Beginning</h2></hr></div>'))\n",
    "display(Markdown(response.choices[0].message.content))\n",
    "display(HTML('<div style=\"background-color: #fff4f4; padding: 10px; border-radius: 5px; border: 1px solid #d3d3d3;\"></hr><h2>🔼 &nbsp; Markdown Output – End</h2></hr></div>'))"
   ]
  }
 ],
 "metadata": {
  "kernelspec": {
   "display_name": ".venv",
   "language": "python",
   "name": "python3"
  },
  "language_info": {
   "codemirror_mode": {
    "name": "ipython",
    "version": 3
   },
   "file_extension": ".py",
   "mimetype": "text/x-python",
   "name": "python",
   "nbconvert_exporter": "python",
   "pygments_lexer": "ipython3",
   "version": "3.11.7"
  }
 },
 "nbformat": 4,
 "nbformat_minor": 5
}
